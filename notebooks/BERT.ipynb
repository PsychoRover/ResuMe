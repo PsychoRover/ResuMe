{
  "nbformat": 4,
  "nbformat_minor": 0,
  "metadata": {
    "colab": {
      "provenance": [],
      "machine_shape": "hm"
    },
    "kernelspec": {
      "name": "python3",
      "display_name": "Python 3"
    },
    "language_info": {
      "name": "python"
    },
    "accelerator": "GPU",
    "gpuClass": "standard"
  },
  "cells": [
    {
      "cell_type": "markdown",
      "source": [
        "# Mount Drive"
      ],
      "metadata": {
        "id": "KyvImq5UTjau"
      }
    },
    {
      "cell_type": "code",
      "source": [
        "from google.colab import drive\n",
        "drive.mount(\"/content/drive\")"
      ],
      "metadata": {
        "colab": {
          "base_uri": "https://localhost:8080/"
        },
        "id": "vQwQT1MMZD9_",
        "outputId": "a31c5f05-09b8-4e00-acb1-f1789ccaefd8"
      },
      "execution_count": null,
      "outputs": [
        {
          "output_type": "stream",
          "name": "stdout",
          "text": [
            "Mounted at /content/drive\n"
          ]
        }
      ]
    },
    {
      "cell_type": "markdown",
      "source": [
        "# Downloads"
      ],
      "metadata": {
        "id": "LwJ6yc0DTlXW"
      }
    },
    {
      "cell_type": "code",
      "source": [
        "!pip install -q -U \"tensorflow-text==2.11.*\"\n",
        "!pip install -q tf-models-official==2.11.0"
      ],
      "metadata": {
        "colab": {
          "base_uri": "https://localhost:8080/"
        },
        "id": "a2cxrPYbTHeq",
        "outputId": "5b41632f-8770-4547-f989-8f8199e9f46e"
      },
      "execution_count": null,
      "outputs": [
        {
          "output_type": "stream",
          "name": "stdout",
          "text": [
            "\u001b[2K     \u001b[90m━━━━━━━━━━━━━━━━━━━━━━━━━━━━━━━━━━━━━━━━\u001b[0m \u001b[32m5.8/5.8 MB\u001b[0m \u001b[31m35.5 MB/s\u001b[0m eta \u001b[36m0:00:00\u001b[0m\n",
            "\u001b[2K     \u001b[90m━━━━━━━━━━━━━━━━━━━━━━━━━━━━━━━━━━━━━━━\u001b[0m \u001b[32m588.3/588.3 MB\u001b[0m \u001b[31m2.5 MB/s\u001b[0m eta \u001b[36m0:00:00\u001b[0m\n",
            "\u001b[2K     \u001b[90m━━━━━━━━━━━━━━━━━━━━━━━━━━━━━━━━━━━━━━━━\u001b[0m \u001b[32m1.7/1.7 MB\u001b[0m \u001b[31m66.7 MB/s\u001b[0m eta \u001b[36m0:00:00\u001b[0m\n",
            "\u001b[2K     \u001b[90m━━━━━━━━━━━━━━━━━━━━━━━━━━━━━━━━━━━━━━━━\u001b[0m \u001b[32m1.1/1.1 MB\u001b[0m \u001b[31m51.9 MB/s\u001b[0m eta \u001b[36m0:00:00\u001b[0m\n",
            "\u001b[2K     \u001b[90m━━━━━━━━━━━━━━━━━━━━━━━━━━━━━━━━━━━━━━\u001b[0m \u001b[32m439.2/439.2 kB\u001b[0m \u001b[31m36.9 MB/s\u001b[0m eta \u001b[36m0:00:00\u001b[0m\n",
            "\u001b[2K     \u001b[90m━━━━━━━━━━━━━━━━━━━━━━━━━━━━━━━━━━━━━━━━\u001b[0m \u001b[32m6.0/6.0 MB\u001b[0m \u001b[31m75.8 MB/s\u001b[0m eta \u001b[36m0:00:00\u001b[0m\n",
            "\u001b[2K     \u001b[90m━━━━━━━━━━━━━━━━━━━━━━━━━━━━━━━━━━━━━━━━\u001b[0m \u001b[32m4.9/4.9 MB\u001b[0m \u001b[31m91.6 MB/s\u001b[0m eta \u001b[36m0:00:00\u001b[0m\n",
            "\u001b[2K     \u001b[90m━━━━━━━━━━━━━━━━━━━━━━━━━━━━━━━━━━━━━━━━\u001b[0m \u001b[32m2.3/2.3 MB\u001b[0m \u001b[31m4.2 MB/s\u001b[0m eta \u001b[36m0:00:00\u001b[0m\n",
            "\u001b[2K     \u001b[90m━━━━━━━━━━━━━━━━━━━━━━━━━━━━━━━━━━━━━━━━\u001b[0m \u001b[32m38.2/38.2 MB\u001b[0m \u001b[31m29.7 MB/s\u001b[0m eta \u001b[36m0:00:00\u001b[0m\n",
            "\u001b[2K     \u001b[90m━━━━━━━━━━━━━━━━━━━━━━━━━━━━━━━━━━━━━━━\u001b[0m \u001b[32m118.9/118.9 kB\u001b[0m \u001b[31m6.4 MB/s\u001b[0m eta \u001b[36m0:00:00\u001b[0m\n",
            "\u001b[2K     \u001b[90m━━━━━━━━━━━━━━━━━━━━━━━━━━━━━━━━━━━━━━━━\u001b[0m \u001b[32m43.6/43.6 kB\u001b[0m \u001b[31m5.6 MB/s\u001b[0m eta \u001b[36m0:00:00\u001b[0m\n",
            "\u001b[?25h  Preparing metadata (setup.py) ... \u001b[?25l\u001b[?25hdone\n",
            "\u001b[2K     \u001b[90m━━━━━━━━━━━━━━━━━━━━━━━━━━━━━━━━━━━━━━\u001b[0m \u001b[32m240.6/240.6 kB\u001b[0m \u001b[31m24.3 MB/s\u001b[0m eta \u001b[36m0:00:00\u001b[0m\n",
            "\u001b[2K     \u001b[90m━━━━━━━━━━━━━━━━━━━━━━━━━━━━━━━━━━━━━━━━\u001b[0m \u001b[32m1.3/1.3 MB\u001b[0m \u001b[31m72.7 MB/s\u001b[0m eta \u001b[36m0:00:00\u001b[0m\n",
            "\u001b[2K     \u001b[90m━━━━━━━━━━━━━━━━━━━━━━━━━━━━━━━━━━━━━━\u001b[0m \u001b[32m591.0/591.0 kB\u001b[0m \u001b[31m52.5 MB/s\u001b[0m eta \u001b[36m0:00:00\u001b[0m\n",
            "\u001b[2K     \u001b[90m━━━━━━━━━━━━━━━━━━━━━━━━━━━━━━━━━━━━━━\u001b[0m \u001b[32m630.1/630.1 kB\u001b[0m \u001b[31m52.2 MB/s\u001b[0m eta \u001b[36m0:00:00\u001b[0m\n",
            "\u001b[2K     \u001b[90m━━━━━━━━━━━━━━━━━━━━━━━━━━━━━━━━━━━━━━━━\u001b[0m \u001b[32m17.3/17.3 MB\u001b[0m \u001b[31m71.9 MB/s\u001b[0m eta \u001b[36m0:00:00\u001b[0m\n",
            "\u001b[?25h  Building wheel for seqeval (setup.py) ... \u001b[?25l\u001b[?25hdone\n",
            "\u001b[31mERROR: pip's dependency resolver does not currently take into account all the packages that are installed. This behaviour is the source of the following dependency conflicts.\n",
            "numba 0.56.4 requires numpy<1.24,>=1.18, but you have numpy 1.24.2 which is incompatible.\u001b[0m\u001b[31m\n",
            "\u001b[0m"
          ]
        }
      ]
    },
    {
      "cell_type": "code",
      "source": [
        "!gdown 1K52DXFwr-wJpBFnDdS5SGyU8Njq4l4-A"
      ],
      "metadata": {
        "colab": {
          "base_uri": "https://localhost:8080/"
        },
        "id": "lk_quT3dTgnx",
        "outputId": "761e64f2-a4c3-4b18-f784-8947e13da420"
      },
      "execution_count": null,
      "outputs": [
        {
          "output_type": "stream",
          "name": "stdout",
          "text": [
            "Downloading...\n",
            "From: https://drive.google.com/uc?id=1K52DXFwr-wJpBFnDdS5SGyU8Njq4l4-A\n",
            "To: /content/CleanedDataset.csv\n",
            "\r  0% 0.00/850k [00:00<?, ?B/s]\r100% 850k/850k [00:00<00:00, 136MB/s]\n"
          ]
        }
      ]
    },
    {
      "cell_type": "markdown",
      "source": [
        "# Imports"
      ],
      "metadata": {
        "id": "4EoW-e2vTg7J"
      }
    },
    {
      "cell_type": "code",
      "source": [
        "import matplotlib.pyplot as plt\n",
        "import pandas as pd\n",
        "import tensorflow as tf\n",
        "import tensorflow_hub as hub\n",
        "import tensorflow_text as text\n",
        "from official.nlp import optimization\n",
        "from tensorflow import keras"
      ],
      "metadata": {
        "id": "w0j_Bb-gTpDl",
        "colab": {
          "base_uri": "https://localhost:8080/"
        },
        "outputId": "dac1239a-1903-484d-b58f-dfca0efc7285"
      },
      "execution_count": null,
      "outputs": [
        {
          "output_type": "stream",
          "name": "stderr",
          "text": [
            "/usr/local/lib/python3.9/dist-packages/tensorflow_addons/utils/tfa_eol_msg.py:23: UserWarning: \n",
            "\n",
            "TensorFlow Addons (TFA) has ended development and introduction of new features.\n",
            "TFA has entered a minimal maintenance and release mode until a planned end of life in May 2024.\n",
            "Please modify downstream libraries to take dependencies from other repositories in our TensorFlow community (e.g. Keras, Keras-CV, and Keras-NLP). \n",
            "\n",
            "For more information see: https://github.com/tensorflow/addons/issues/2807 \n",
            "\n",
            "  warnings.warn(\n"
          ]
        }
      ]
    },
    {
      "cell_type": "markdown",
      "source": [
        "# Load dataset"
      ],
      "metadata": {
        "id": "A5hOxywyTtCI"
      }
    },
    {
      "cell_type": "code",
      "source": [
        "df = pd.read_csv(\"/content/CleanedDataset.csv\")"
      ],
      "metadata": {
        "id": "__ZEGuCMTujA"
      },
      "execution_count": null,
      "outputs": []
    },
    {
      "cell_type": "code",
      "source": [
        "# Split into training and testing sets\n",
        "train_df = df.sample(frac=0.8, random_state=42)\n",
        "test_df = df.drop(train_df.index)\n"
      ],
      "metadata": {
        "id": "Jy5K4VsJUQTw"
      },
      "execution_count": null,
      "outputs": []
    },
    {
      "cell_type": "code",
      "source": [
        "# Create TensorFlow datasets\n",
        "train_dataset = tf.data.Dataset.from_tensor_slices((\n",
        "    train_df.cleaned_resume.values,\n",
        "    train_df.Labeled_Category.tolist()\n",
        "))\n",
        "test_dataset = tf.data.Dataset.from_tensor_slices((\n",
        "    test_df.cleaned_resume.values,\n",
        "    test_df.Labeled_Category.tolist()\n",
        "))\n"
      ],
      "metadata": {
        "id": "atpKH9beU1sI"
      },
      "execution_count": null,
      "outputs": []
    },
    {
      "cell_type": "code",
      "source": [
        "# Set batch size and maximum sequence length\n",
        "batch_size = 16\n",
        "max_len = 512\n",
        "\n",
        "# Apply batch and prefetch\n",
        "train_dataset = train_dataset.batch(batch_size).prefetch(tf.data.AUTOTUNE)\n",
        "test_dataset = test_dataset.batch(batch_size).prefetch(tf.data.AUTOTUNE)\n"
      ],
      "metadata": {
        "id": "X7B8S-4zVCjq"
      },
      "execution_count": null,
      "outputs": []
    },
    {
      "cell_type": "markdown",
      "source": [
        "# BERT"
      ],
      "metadata": {
        "id": "UVdTiD02T3AZ"
      }
    },
    {
      "cell_type": "markdown",
      "source": [
        "## Callbacks"
      ],
      "metadata": {
        "id": "0C8OUDkT1bPu"
      }
    },
    {
      "cell_type": "code",
      "source": [
        "model_checkpoint = lambda name: keras.callbacks.ModelCheckpoint(f\"/content/drive/MyDrive/Colab Notebooks/Data-Science-Intro/{name}\", save_best_only=True)\n",
        "early_stopping = keras.callbacks.EarlyStopping(patience=10, verbose=1, restore_best_weights=True)"
      ],
      "metadata": {
        "id": "w3TXTqZVr_XQ"
      },
      "execution_count": null,
      "outputs": []
    },
    {
      "cell_type": "markdown",
      "source": [
        "## Training"
      ],
      "metadata": {
        "id": "4PSmHUqz1rnC"
      }
    },
    {
      "cell_type": "code",
      "source": [
        "#@title Model Selection\n",
        "bert_model_name = 'small_bert/bert_en_uncased_L-4_H-512_A-8'\n",
        "\n",
        "map_name_to_handle = {\n",
        "    'bert_en_uncased_L-12_H-768_A-12':\n",
        "        'https://tfhub.dev/tensorflow/bert_en_uncased_L-12_H-768_A-12/3',\n",
        "    'bert_en_cased_L-12_H-768_A-12':\n",
        "        'https://tfhub.dev/tensorflow/bert_en_cased_L-12_H-768_A-12/3',\n",
        "    'bert_multi_cased_L-12_H-768_A-12':\n",
        "        'https://tfhub.dev/tensorflow/bert_multi_cased_L-12_H-768_A-12/3',\n",
        "    'small_bert/bert_en_uncased_L-2_H-128_A-2':\n",
        "        'https://tfhub.dev/tensorflow/small_bert/bert_en_uncased_L-2_H-128_A-2/1',\n",
        "    'small_bert/bert_en_uncased_L-2_H-256_A-4':\n",
        "        'https://tfhub.dev/tensorflow/small_bert/bert_en_uncased_L-2_H-256_A-4/1',\n",
        "    'small_bert/bert_en_uncased_L-2_H-512_A-8':\n",
        "        'https://tfhub.dev/tensorflow/small_bert/bert_en_uncased_L-2_H-512_A-8/1',\n",
        "    'small_bert/bert_en_uncased_L-2_H-768_A-12':\n",
        "        'https://tfhub.dev/tensorflow/small_bert/bert_en_uncased_L-2_H-768_A-12/1',\n",
        "    'small_bert/bert_en_uncased_L-4_H-128_A-2':\n",
        "        'https://tfhub.dev/tensorflow/small_bert/bert_en_uncased_L-4_H-128_A-2/1',\n",
        "    'small_bert/bert_en_uncased_L-4_H-256_A-4':\n",
        "        'https://tfhub.dev/tensorflow/small_bert/bert_en_uncased_L-4_H-256_A-4/1',\n",
        "    'small_bert/bert_en_uncased_L-4_H-512_A-8':\n",
        "        'https://tfhub.dev/tensorflow/small_bert/bert_en_uncased_L-4_H-512_A-8/1',\n",
        "    'small_bert/bert_en_uncased_L-4_H-768_A-12':\n",
        "        'https://tfhub.dev/tensorflow/small_bert/bert_en_uncased_L-4_H-768_A-12/1',\n",
        "    'small_bert/bert_en_uncased_L-6_H-128_A-2':\n",
        "        'https://tfhub.dev/tensorflow/small_bert/bert_en_uncased_L-6_H-128_A-2/1',\n",
        "    'small_bert/bert_en_uncased_L-6_H-256_A-4':\n",
        "        'https://tfhub.dev/tensorflow/small_bert/bert_en_uncased_L-6_H-256_A-4/1',\n",
        "    'small_bert/bert_en_uncased_L-6_H-512_A-8':\n",
        "        'https://tfhub.dev/tensorflow/small_bert/bert_en_uncased_L-6_H-512_A-8/1',\n",
        "    'small_bert/bert_en_uncased_L-6_H-768_A-12':\n",
        "        'https://tfhub.dev/tensorflow/small_bert/bert_en_uncased_L-6_H-768_A-12/1',\n",
        "    'small_bert/bert_en_uncased_L-8_H-128_A-2':\n",
        "        'https://tfhub.dev/tensorflow/small_bert/bert_en_uncased_L-8_H-128_A-2/1',\n",
        "    'small_bert/bert_en_uncased_L-8_H-256_A-4':\n",
        "        'https://tfhub.dev/tensorflow/small_bert/bert_en_uncased_L-8_H-256_A-4/1',\n",
        "    'small_bert/bert_en_uncased_L-8_H-512_A-8':\n",
        "        'https://tfhub.dev/tensorflow/small_bert/bert_en_uncased_L-8_H-512_A-8/1',\n",
        "    'small_bert/bert_en_uncased_L-8_H-768_A-12':\n",
        "        'https://tfhub.dev/tensorflow/small_bert/bert_en_uncased_L-8_H-768_A-12/1',\n",
        "    'small_bert/bert_en_uncased_L-10_H-128_A-2':\n",
        "        'https://tfhub.dev/tensorflow/small_bert/bert_en_uncased_L-10_H-128_A-2/1',\n",
        "    'small_bert/bert_en_uncased_L-10_H-256_A-4':\n",
        "        'https://tfhub.dev/tensorflow/small_bert/bert_en_uncased_L-10_H-256_A-4/1',\n",
        "    'small_bert/bert_en_uncased_L-10_H-512_A-8':\n",
        "        'https://tfhub.dev/tensorflow/small_bert/bert_en_uncased_L-10_H-512_A-8/1',\n",
        "    'small_bert/bert_en_uncased_L-10_H-768_A-12':\n",
        "        'https://tfhub.dev/tensorflow/small_bert/bert_en_uncased_L-10_H-768_A-12/1',\n",
        "    'small_bert/bert_en_uncased_L-12_H-128_A-2':\n",
        "        'https://tfhub.dev/tensorflow/small_bert/bert_en_uncased_L-12_H-128_A-2/1',\n",
        "    'small_bert/bert_en_uncased_L-12_H-256_A-4':\n",
        "        'https://tfhub.dev/tensorflow/small_bert/bert_en_uncased_L-12_H-256_A-4/1',\n",
        "    'small_bert/bert_en_uncased_L-12_H-512_A-8':\n",
        "        'https://tfhub.dev/tensorflow/small_bert/bert_en_uncased_L-12_H-512_A-8/1',\n",
        "    'small_bert/bert_en_uncased_L-12_H-768_A-12':\n",
        "        'https://tfhub.dev/tensorflow/small_bert/bert_en_uncased_L-12_H-768_A-12/1',\n",
        "    'albert_en_base':\n",
        "        'https://tfhub.dev/tensorflow/albert_en_base/2',\n",
        "    'electra_small':\n",
        "        'https://tfhub.dev/google/electra_small/2',\n",
        "    'electra_base':\n",
        "        'https://tfhub.dev/google/electra_base/2',\n",
        "    'experts_pubmed':\n",
        "        'https://tfhub.dev/google/experts/bert/pubmed/2',\n",
        "    'experts_wiki_books':\n",
        "        'https://tfhub.dev/google/experts/bert/wiki_books/2',\n",
        "    'talking-heads_base':\n",
        "        'https://tfhub.dev/tensorflow/talkheads_ggelu_bert_en_base/1',\n",
        "}\n",
        "\n",
        "map_model_to_preprocess = {\n",
        "    'bert_en_uncased_L-12_H-768_A-12':\n",
        "        'https://tfhub.dev/tensorflow/bert_en_uncased_preprocess/3',\n",
        "    'bert_en_cased_L-12_H-768_A-12':\n",
        "        'https://tfhub.dev/tensorflow/bert_en_cased_preprocess/3',\n",
        "    'small_bert/bert_en_uncased_L-2_H-128_A-2':\n",
        "        'https://tfhub.dev/tensorflow/bert_en_uncased_preprocess/3',\n",
        "    'small_bert/bert_en_uncased_L-2_H-256_A-4':\n",
        "        'https://tfhub.dev/tensorflow/bert_en_uncased_preprocess/3',\n",
        "    'small_bert/bert_en_uncased_L-2_H-512_A-8':\n",
        "        'https://tfhub.dev/tensorflow/bert_en_uncased_preprocess/3',\n",
        "    'small_bert/bert_en_uncased_L-2_H-768_A-12':\n",
        "        'https://tfhub.dev/tensorflow/bert_en_uncased_preprocess/3',\n",
        "    'small_bert/bert_en_uncased_L-4_H-128_A-2':\n",
        "        'https://tfhub.dev/tensorflow/bert_en_uncased_preprocess/3',\n",
        "    'small_bert/bert_en_uncased_L-4_H-256_A-4':\n",
        "        'https://tfhub.dev/tensorflow/bert_en_uncased_preprocess/3',\n",
        "    'small_bert/bert_en_uncased_L-4_H-512_A-8':\n",
        "        'https://tfhub.dev/tensorflow/bert_en_uncased_preprocess/3',\n",
        "    'small_bert/bert_en_uncased_L-4_H-768_A-12':\n",
        "        'https://tfhub.dev/tensorflow/bert_en_uncased_preprocess/3',\n",
        "    'small_bert/bert_en_uncased_L-6_H-128_A-2':\n",
        "        'https://tfhub.dev/tensorflow/bert_en_uncased_preprocess/3',\n",
        "    'small_bert/bert_en_uncased_L-6_H-256_A-4':\n",
        "        'https://tfhub.dev/tensorflow/bert_en_uncased_preprocess/3',\n",
        "    'small_bert/bert_en_uncased_L-6_H-512_A-8':\n",
        "        'https://tfhub.dev/tensorflow/bert_en_uncased_preprocess/3',\n",
        "    'small_bert/bert_en_uncased_L-6_H-768_A-12':\n",
        "        'https://tfhub.dev/tensorflow/bert_en_uncased_preprocess/3',\n",
        "    'small_bert/bert_en_uncased_L-8_H-128_A-2':\n",
        "        'https://tfhub.dev/tensorflow/bert_en_uncased_preprocess/3',\n",
        "    'small_bert/bert_en_uncased_L-8_H-256_A-4':\n",
        "        'https://tfhub.dev/tensorflow/bert_en_uncased_preprocess/3',\n",
        "    'small_bert/bert_en_uncased_L-8_H-512_A-8':\n",
        "        'https://tfhub.dev/tensorflow/bert_en_uncased_preprocess/3',\n",
        "    'small_bert/bert_en_uncased_L-8_H-768_A-12':\n",
        "        'https://tfhub.dev/tensorflow/bert_en_uncased_preprocess/3',\n",
        "    'small_bert/bert_en_uncased_L-10_H-128_A-2':\n",
        "        'https://tfhub.dev/tensorflow/bert_en_uncased_preprocess/3',\n",
        "    'small_bert/bert_en_uncased_L-10_H-256_A-4':\n",
        "        'https://tfhub.dev/tensorflow/bert_en_uncased_preprocess/3',\n",
        "    'small_bert/bert_en_uncased_L-10_H-512_A-8':\n",
        "        'https://tfhub.dev/tensorflow/bert_en_uncased_preprocess/3',\n",
        "    'small_bert/bert_en_uncased_L-10_H-768_A-12':\n",
        "        'https://tfhub.dev/tensorflow/bert_en_uncased_preprocess/3',\n",
        "    'small_bert/bert_en_uncased_L-12_H-128_A-2':\n",
        "        'https://tfhub.dev/tensorflow/bert_en_uncased_preprocess/3',\n",
        "    'small_bert/bert_en_uncased_L-12_H-256_A-4':\n",
        "        'https://tfhub.dev/tensorflow/bert_en_uncased_preprocess/3',\n",
        "    'small_bert/bert_en_uncased_L-12_H-512_A-8':\n",
        "        'https://tfhub.dev/tensorflow/bert_en_uncased_preprocess/3',\n",
        "    'small_bert/bert_en_uncased_L-12_H-768_A-12':\n",
        "        'https://tfhub.dev/tensorflow/bert_en_uncased_preprocess/3',\n",
        "    'bert_multi_cased_L-12_H-768_A-12':\n",
        "        'https://tfhub.dev/tensorflow/bert_multi_cased_preprocess/3',\n",
        "    'albert_en_base':\n",
        "        'https://tfhub.dev/tensorflow/albert_en_preprocess/3',\n",
        "    'electra_small':\n",
        "        'https://tfhub.dev/tensorflow/bert_en_uncased_preprocess/3',\n",
        "    'electra_base':\n",
        "        'https://tfhub.dev/tensorflow/bert_en_uncased_preprocess/3',\n",
        "    'experts_pubmed':\n",
        "        'https://tfhub.dev/tensorflow/bert_en_uncased_preprocess/3',\n",
        "    'experts_wiki_books':\n",
        "        'https://tfhub.dev/tensorflow/bert_en_uncased_preprocess/3',\n",
        "    'talking-heads_base':\n",
        "        'https://tfhub.dev/tensorflow/bert_en_uncased_preprocess/3',\n",
        "}\n",
        "\n",
        "tfhub_handle_encoder = map_name_to_handle[bert_model_name]\n",
        "tfhub_handle_preprocess = map_model_to_preprocess[bert_model_name]\n",
        "\n",
        "print(f'BERT model selected           : {tfhub_handle_encoder}')\n",
        "print(f'Preprocess model auto-selected: {tfhub_handle_preprocess}')"
      ],
      "metadata": {
        "colab": {
          "base_uri": "https://localhost:8080/"
        },
        "cellView": "form",
        "id": "WK4Zh3zois-r",
        "outputId": "b370f42c-8288-4b71-ae0f-a8657094d31f"
      },
      "execution_count": null,
      "outputs": [
        {
          "output_type": "stream",
          "name": "stdout",
          "text": [
            "BERT model selected           : https://tfhub.dev/tensorflow/small_bert/bert_en_uncased_L-4_H-512_A-8/1\n",
            "Preprocess model auto-selected: https://tfhub.dev/tensorflow/bert_en_uncased_preprocess/3\n"
          ]
        }
      ]
    },
    {
      "cell_type": "code",
      "source": [
        "bert_preprocess_model = hub.KerasLayer(tfhub_handle_preprocess)"
      ],
      "metadata": {
        "id": "YW0LxJGqkSR-"
      },
      "execution_count": null,
      "outputs": []
    },
    {
      "cell_type": "code",
      "source": [
        "text_test = ['this is such an amazing movie!']\n",
        "text_preprocessed = bert_preprocess_model(text_test)\n",
        "\n",
        "print(f'Keys       : {list(text_preprocessed.keys())}')\n",
        "print(f'Shape      : {text_preprocessed[\"input_word_ids\"].shape}')\n",
        "print(f'Word Ids   : {text_preprocessed[\"input_word_ids\"][0, :12]}')\n",
        "print(f'Input Mask : {text_preprocessed[\"input_mask\"][0, :12]}')\n",
        "print(f'Type Ids   : {text_preprocessed[\"input_type_ids\"][0, :12]}')"
      ],
      "metadata": {
        "colab": {
          "base_uri": "https://localhost:8080/"
        },
        "id": "xD73gE_SkUJL",
        "outputId": "722c5c9a-7142-4a02-bd3a-64a6e81164db"
      },
      "execution_count": null,
      "outputs": [
        {
          "output_type": "stream",
          "name": "stdout",
          "text": [
            "Keys       : ['input_mask', 'input_type_ids', 'input_word_ids']\n",
            "Shape      : (1, 128)\n",
            "Word Ids   : [ 101 2023 2003 2107 2019 6429 3185  999  102    0    0    0]\n",
            "Input Mask : [1 1 1 1 1 1 1 1 1 0 0 0]\n",
            "Type Ids   : [0 0 0 0 0 0 0 0 0 0 0 0]\n"
          ]
        }
      ]
    },
    {
      "cell_type": "code",
      "source": [
        "bert_model = hub.KerasLayer(tfhub_handle_encoder, trainable=True)"
      ],
      "metadata": {
        "id": "hL1c-lrmke3b"
      },
      "execution_count": null,
      "outputs": []
    },
    {
      "cell_type": "code",
      "source": [
        "bert_results = bert_model(text_preprocessed)\n",
        "\n",
        "print(f'Loaded BERT: {tfhub_handle_encoder}')\n",
        "print(f'Pooled Outputs Shape:{bert_results[\"pooled_output\"].shape}')\n",
        "print(f'Pooled Outputs Values:{bert_results[\"pooled_output\"][0, :12]}')\n",
        "print(f'Sequence Outputs Shape:{bert_results[\"sequence_output\"].shape}')\n",
        "print(f'Sequence Outputs Values:{bert_results[\"sequence_output\"][0, :12]}')"
      ],
      "metadata": {
        "colab": {
          "base_uri": "https://localhost:8080/"
        },
        "id": "Wgilq52ukhcp",
        "outputId": "f5b22dfa-6775-475d-9f9b-21018b5313f7"
      },
      "execution_count": null,
      "outputs": [
        {
          "output_type": "stream",
          "name": "stdout",
          "text": [
            "Loaded BERT: https://tfhub.dev/tensorflow/small_bert/bert_en_uncased_L-4_H-512_A-8/1\n",
            "Pooled Outputs Shape:(1, 512)\n",
            "Pooled Outputs Values:[ 0.76262873  0.9928099  -0.18611872  0.36673853  0.1523371   0.65504426\n",
            "  0.9681154  -0.94862705  0.00216182 -0.9877732   0.06842728 -0.97630584]\n",
            "Sequence Outputs Shape:(1, 128, 512)\n",
            "Sequence Outputs Values:[[-0.28946307  0.34321266  0.33231518 ...  0.21300897  0.71020764\n",
            "  -0.05771176]\n",
            " [-0.2874206   0.3198098  -0.23018597 ...  0.5845501  -0.21329726\n",
            "   0.72692066]\n",
            " [-0.6615712   0.68876785 -0.8743292  ...  0.10877268 -0.2617322\n",
            "   0.4785534 ]\n",
            " ...\n",
            " [-0.22561154 -0.28925663 -0.07064398 ...  0.47566003  0.8327717\n",
            "   0.40025344]\n",
            " [-0.29824272 -0.27473173 -0.05450511 ...  0.48849759  1.0955356\n",
            "   0.18163322]\n",
            " [-0.44378266  0.00930682  0.07223728 ...  0.17290092  1.1833241\n",
            "   0.07898061]]\n"
          ]
        }
      ]
    },
    {
      "cell_type": "code",
      "source": [
        "def build_classifier_model():\n",
        "  text_input = tf.keras.layers.Input(shape=(), dtype=tf.string, name='text')\n",
        "  preprocessing_layer = hub.KerasLayer(tfhub_handle_preprocess, name='preprocessing')\n",
        "  encoder_inputs = preprocessing_layer(text_input)\n",
        "  encoder = hub.KerasLayer(tfhub_handle_encoder, trainable=True, name='BERT_encoder')\n",
        "  outputs = encoder(encoder_inputs)\n",
        "  net = outputs['pooled_output']\n",
        "  # net = tf.keras.layers.Dropout(0.5)(net)\n",
        "  net = tf.keras.layers.Dense(512, activation=\"relu\", kernel_regularizer=tf.keras.regularizers.l2(0.01))(net)\n",
        "  # net = tf.keras.layers.Dropout(0.2)(net)\n",
        "  net = tf.keras.layers.Dense(len(df.Category.unique()), activation=\"softmax\",\n",
        "                              # kernel_regularizer=tf.keras.regularizers.l2(0.01),\n",
        "                              name='classifier')(net)\n",
        "  return tf.keras.Model(text_input, net)"
      ],
      "metadata": {
        "id": "YaUwHxbIzJhe"
      },
      "execution_count": null,
      "outputs": []
    },
    {
      "cell_type": "code",
      "source": [
        "def build_classifier_model():\n",
        "  text_input = tf.keras.layers.Input(shape=(), dtype=tf.string, name='text')\n",
        "  preprocessing_layer = hub.KerasLayer(tfhub_handle_preprocess, name='preprocessing')\n",
        "  encoder_inputs = preprocessing_layer(text_input)\n",
        "  encoder = hub.KerasLayer(tfhub_handle_encoder, trainable=True, name='BERT_encoder')\n",
        "  outputs = encoder(encoder_inputs)\n",
        "  net = outputs['pooled_output']\n",
        "  net = tf.keras.layers.Dropout(0.5)(net)\n",
        "  net = tf.keras.layers.Dense(512, activation=\"relu\")(net)\n",
        "  net = tf.keras.layers.Dropout(0.2)(net)\n",
        "  net = tf.keras.layers.Dense(len(df.Category.unique()), activation=\"softmax\",\n",
        "                              kernel_regularizer=tf.keras.regularizers.l2(0.01),\n",
        "                              name='classifier')(net)\n",
        "  return tf.keras.Model(text_input, net)"
      ],
      "metadata": {
        "id": "GV6u_zsPkqGE"
      },
      "execution_count": null,
      "outputs": []
    },
    {
      "cell_type": "code",
      "source": [
        "classifier_model = build_classifier_model()"
      ],
      "metadata": {
        "id": "BRSYQnGAk8F0"
      },
      "execution_count": null,
      "outputs": []
    },
    {
      "cell_type": "code",
      "source": [
        "loss = tf.keras.losses.SparseCategoricalCrossentropy()\n",
        "metrics = tf.metrics.SparseCategoricalAccuracy()"
      ],
      "metadata": {
        "id": "7YScUOdzlM3K"
      },
      "execution_count": null,
      "outputs": []
    },
    {
      "cell_type": "code",
      "source": [
        "epochs = 150\n",
        "steps_per_epoch = tf.data.experimental.cardinality(train_dataset).numpy()\n",
        "num_train_steps = steps_per_epoch * epochs\n",
        "num_warmup_steps = int(0.1*num_train_steps)\n",
        "\n",
        "init_lr = 3e-5\n",
        "optimizer = optimization.create_optimizer(\n",
        "    init_lr=init_lr,\n",
        "    num_train_steps=num_train_steps,\n",
        "    num_warmup_steps=num_warmup_steps,\n",
        "    optimizer_type='adamw'\n",
        ")"
      ],
      "metadata": {
        "id": "dgGlf35ElZNb"
      },
      "execution_count": null,
      "outputs": []
    },
    {
      "cell_type": "code",
      "source": [
        "classifier_model.compile(\n",
        "    optimizer=optimizer,\n",
        "    loss=loss,\n",
        "    metrics=metrics\n",
        ")"
      ],
      "metadata": {
        "id": "PgEvhimMlwGJ"
      },
      "execution_count": null,
      "outputs": []
    },
    {
      "cell_type": "code",
      "source": [
        "print(f'Training model with {tfhub_handle_encoder}')\n",
        "history = classifier_model.fit(\n",
        "    x=train_dataset,\n",
        "    validation_data=test_dataset,\n",
        "    epochs=epochs,\n",
        "    callbacks=[\n",
        "        # model_checkpoint(\"Classifier.h5\"),\n",
        "        early_stopping\n",
        "        ]\n",
        ")"
      ],
      "metadata": {
        "colab": {
          "base_uri": "https://localhost:8080/"
        },
        "id": "kluQs02UmRPK",
        "outputId": "91665c7a-fa18-4634-a45a-988d6164888f"
      },
      "execution_count": null,
      "outputs": [
        {
          "output_type": "stream",
          "name": "stdout",
          "text": [
            "Training model with https://tfhub.dev/tensorflow/small_bert/bert_en_uncased_L-4_H-512_A-8/1\n",
            "Epoch 1/150\n",
            "7/7 [==============================] - 7s 246ms/step - loss: 8.3900 - sparse_categorical_accuracy: 0.0714 - val_loss: 8.2341 - val_sparse_categorical_accuracy: 0.0357\n",
            "Epoch 2/150\n",
            "7/7 [==============================] - 1s 149ms/step - loss: 8.3849 - sparse_categorical_accuracy: 0.0625 - val_loss: 8.1882 - val_sparse_categorical_accuracy: 0.0357\n",
            "Epoch 3/150\n",
            "7/7 [==============================] - 1s 153ms/step - loss: 8.3248 - sparse_categorical_accuracy: 0.0714 - val_loss: 8.1512 - val_sparse_categorical_accuracy: 0.0714\n",
            "Epoch 4/150\n",
            "7/7 [==============================] - 1s 160ms/step - loss: 8.2155 - sparse_categorical_accuracy: 0.1161 - val_loss: 8.1234 - val_sparse_categorical_accuracy: 0.0714\n",
            "Epoch 5/150\n",
            "7/7 [==============================] - 1s 157ms/step - loss: 8.0992 - sparse_categorical_accuracy: 0.1250 - val_loss: 8.1027 - val_sparse_categorical_accuracy: 0.1071\n",
            "Epoch 6/150\n",
            "7/7 [==============================] - 1s 136ms/step - loss: 8.0514 - sparse_categorical_accuracy: 0.1250 - val_loss: 8.1079 - val_sparse_categorical_accuracy: 0.0357\n",
            "Epoch 7/150\n",
            "7/7 [==============================] - 1s 158ms/step - loss: 7.9271 - sparse_categorical_accuracy: 0.1607 - val_loss: 8.0960 - val_sparse_categorical_accuracy: 0.0357\n",
            "Epoch 8/150\n",
            "7/7 [==============================] - 1s 149ms/step - loss: 7.8539 - sparse_categorical_accuracy: 0.1696 - val_loss: 8.0755 - val_sparse_categorical_accuracy: 0.0714\n",
            "Epoch 9/150\n",
            "7/7 [==============================] - 1s 149ms/step - loss: 7.7335 - sparse_categorical_accuracy: 0.2232 - val_loss: 8.0658 - val_sparse_categorical_accuracy: 0.0714\n",
            "Epoch 10/150\n",
            "7/7 [==============================] - 1s 148ms/step - loss: 7.6249 - sparse_categorical_accuracy: 0.3304 - val_loss: 8.0558 - val_sparse_categorical_accuracy: 0.0714\n",
            "Epoch 11/150\n",
            "7/7 [==============================] - 1s 150ms/step - loss: 7.4972 - sparse_categorical_accuracy: 0.3839 - val_loss: 7.9782 - val_sparse_categorical_accuracy: 0.1786\n",
            "Epoch 12/150\n",
            "7/7 [==============================] - 1s 149ms/step - loss: 7.3683 - sparse_categorical_accuracy: 0.4375 - val_loss: 7.9255 - val_sparse_categorical_accuracy: 0.1786\n",
            "Epoch 13/150\n",
            "7/7 [==============================] - 1s 150ms/step - loss: 7.1818 - sparse_categorical_accuracy: 0.4821 - val_loss: 7.8222 - val_sparse_categorical_accuracy: 0.2500\n",
            "Epoch 14/150\n",
            "7/7 [==============================] - 1s 150ms/step - loss: 6.9716 - sparse_categorical_accuracy: 0.6071 - val_loss: 7.7395 - val_sparse_categorical_accuracy: 0.1786\n",
            "Epoch 15/150\n",
            "7/7 [==============================] - 1s 147ms/step - loss: 6.8046 - sparse_categorical_accuracy: 0.6518 - val_loss: 7.6754 - val_sparse_categorical_accuracy: 0.2500\n",
            "Epoch 16/150\n",
            "7/7 [==============================] - 1s 148ms/step - loss: 6.6254 - sparse_categorical_accuracy: 0.7143 - val_loss: 7.5634 - val_sparse_categorical_accuracy: 0.2857\n",
            "Epoch 17/150\n",
            "7/7 [==============================] - 1s 150ms/step - loss: 6.4055 - sparse_categorical_accuracy: 0.8482 - val_loss: 7.4558 - val_sparse_categorical_accuracy: 0.2857\n",
            "Epoch 18/150\n",
            "7/7 [==============================] - 1s 157ms/step - loss: 6.2660 - sparse_categorical_accuracy: 0.8482 - val_loss: 7.3324 - val_sparse_categorical_accuracy: 0.3571\n",
            "Epoch 19/150\n",
            "7/7 [==============================] - 1s 155ms/step - loss: 6.0999 - sparse_categorical_accuracy: 0.9554 - val_loss: 7.2107 - val_sparse_categorical_accuracy: 0.3929\n",
            "Epoch 20/150\n",
            "7/7 [==============================] - 1s 157ms/step - loss: 5.9694 - sparse_categorical_accuracy: 0.9643 - val_loss: 7.1356 - val_sparse_categorical_accuracy: 0.4643\n",
            "Epoch 21/150\n",
            "7/7 [==============================] - 1s 154ms/step - loss: 5.8202 - sparse_categorical_accuracy: 0.9732 - val_loss: 7.0903 - val_sparse_categorical_accuracy: 0.4286\n",
            "Epoch 22/150\n",
            "7/7 [==============================] - 1s 150ms/step - loss: 5.6712 - sparse_categorical_accuracy: 1.0000 - val_loss: 6.9359 - val_sparse_categorical_accuracy: 0.4643\n",
            "Epoch 23/150\n",
            "7/7 [==============================] - 1s 149ms/step - loss: 5.5552 - sparse_categorical_accuracy: 1.0000 - val_loss: 6.8452 - val_sparse_categorical_accuracy: 0.5357\n",
            "Epoch 24/150\n",
            "7/7 [==============================] - 1s 151ms/step - loss: 5.4571 - sparse_categorical_accuracy: 1.0000 - val_loss: 6.7599 - val_sparse_categorical_accuracy: 0.5357\n",
            "Epoch 25/150\n",
            "7/7 [==============================] - 1s 147ms/step - loss: 5.3632 - sparse_categorical_accuracy: 1.0000 - val_loss: 6.5651 - val_sparse_categorical_accuracy: 0.5714\n",
            "Epoch 26/150\n",
            "7/7 [==============================] - 1s 131ms/step - loss: 5.2966 - sparse_categorical_accuracy: 1.0000 - val_loss: 6.6163 - val_sparse_categorical_accuracy: 0.5000\n",
            "Epoch 27/150\n",
            "7/7 [==============================] - 1s 148ms/step - loss: 5.2465 - sparse_categorical_accuracy: 1.0000 - val_loss: 6.4788 - val_sparse_categorical_accuracy: 0.6071\n",
            "Epoch 28/150\n",
            "7/7 [==============================] - 1s 148ms/step - loss: 5.1707 - sparse_categorical_accuracy: 1.0000 - val_loss: 6.4688 - val_sparse_categorical_accuracy: 0.5714\n",
            "Epoch 29/150\n",
            "7/7 [==============================] - 1s 149ms/step - loss: 5.1124 - sparse_categorical_accuracy: 1.0000 - val_loss: 6.4476 - val_sparse_categorical_accuracy: 0.5357\n",
            "Epoch 30/150\n",
            "7/7 [==============================] - 1s 149ms/step - loss: 5.0681 - sparse_categorical_accuracy: 1.0000 - val_loss: 6.2811 - val_sparse_categorical_accuracy: 0.7143\n",
            "Epoch 31/150\n",
            "7/7 [==============================] - 1s 132ms/step - loss: 5.0223 - sparse_categorical_accuracy: 1.0000 - val_loss: 6.2920 - val_sparse_categorical_accuracy: 0.6071\n",
            "Epoch 32/150\n",
            "7/7 [==============================] - 1s 157ms/step - loss: 4.9633 - sparse_categorical_accuracy: 1.0000 - val_loss: 6.1985 - val_sparse_categorical_accuracy: 0.6429\n",
            "Epoch 33/150\n",
            "7/7 [==============================] - 1s 158ms/step - loss: 4.9202 - sparse_categorical_accuracy: 1.0000 - val_loss: 6.0841 - val_sparse_categorical_accuracy: 0.6786\n",
            "Epoch 34/150\n",
            "7/7 [==============================] - 1s 157ms/step - loss: 4.8719 - sparse_categorical_accuracy: 1.0000 - val_loss: 6.0310 - val_sparse_categorical_accuracy: 0.6786\n",
            "Epoch 35/150\n",
            "7/7 [==============================] - 1s 156ms/step - loss: 4.8223 - sparse_categorical_accuracy: 1.0000 - val_loss: 5.9992 - val_sparse_categorical_accuracy: 0.6429\n",
            "Epoch 36/150\n",
            "7/7 [==============================] - 1s 154ms/step - loss: 4.7785 - sparse_categorical_accuracy: 1.0000 - val_loss: 5.9455 - val_sparse_categorical_accuracy: 0.6786\n",
            "Epoch 37/150\n",
            "7/7 [==============================] - 1s 149ms/step - loss: 4.7287 - sparse_categorical_accuracy: 1.0000 - val_loss: 5.9374 - val_sparse_categorical_accuracy: 0.6786\n",
            "Epoch 38/150\n",
            "7/7 [==============================] - 1s 150ms/step - loss: 4.6796 - sparse_categorical_accuracy: 1.0000 - val_loss: 5.8269 - val_sparse_categorical_accuracy: 0.6786\n",
            "Epoch 39/150\n",
            "7/7 [==============================] - 1s 149ms/step - loss: 4.6289 - sparse_categorical_accuracy: 1.0000 - val_loss: 5.7723 - val_sparse_categorical_accuracy: 0.6786\n",
            "Epoch 40/150\n",
            "7/7 [==============================] - 1s 149ms/step - loss: 4.5793 - sparse_categorical_accuracy: 1.0000 - val_loss: 5.7298 - val_sparse_categorical_accuracy: 0.7143\n",
            "Epoch 41/150\n",
            "7/7 [==============================] - 1s 148ms/step - loss: 4.5298 - sparse_categorical_accuracy: 1.0000 - val_loss: 5.6794 - val_sparse_categorical_accuracy: 0.6786\n",
            "Epoch 42/150\n",
            "7/7 [==============================] - 1s 149ms/step - loss: 4.4806 - sparse_categorical_accuracy: 1.0000 - val_loss: 5.5566 - val_sparse_categorical_accuracy: 0.6786\n",
            "Epoch 43/150\n",
            "7/7 [==============================] - 1s 148ms/step - loss: 4.4342 - sparse_categorical_accuracy: 1.0000 - val_loss: 5.4824 - val_sparse_categorical_accuracy: 0.7500\n",
            "Epoch 44/150\n",
            "7/7 [==============================] - 1s 131ms/step - loss: 4.3896 - sparse_categorical_accuracy: 1.0000 - val_loss: 5.5011 - val_sparse_categorical_accuracy: 0.6786\n",
            "Epoch 45/150\n",
            "7/7 [==============================] - 1s 150ms/step - loss: 4.3467 - sparse_categorical_accuracy: 1.0000 - val_loss: 5.4467 - val_sparse_categorical_accuracy: 0.7143\n",
            "Epoch 46/150\n",
            "7/7 [==============================] - 1s 151ms/step - loss: 4.3057 - sparse_categorical_accuracy: 1.0000 - val_loss: 5.3972 - val_sparse_categorical_accuracy: 0.6786\n",
            "Epoch 47/150\n",
            "7/7 [==============================] - 1s 156ms/step - loss: 4.2655 - sparse_categorical_accuracy: 1.0000 - val_loss: 5.3690 - val_sparse_categorical_accuracy: 0.7143\n",
            "Epoch 48/150\n",
            "7/7 [==============================] - 1s 156ms/step - loss: 4.2278 - sparse_categorical_accuracy: 1.0000 - val_loss: 5.3367 - val_sparse_categorical_accuracy: 0.7143\n",
            "Epoch 49/150\n",
            "7/7 [==============================] - 1s 157ms/step - loss: 4.1910 - sparse_categorical_accuracy: 1.0000 - val_loss: 5.3163 - val_sparse_categorical_accuracy: 0.7143\n",
            "Epoch 50/150\n",
            "7/7 [==============================] - 1s 156ms/step - loss: 4.1548 - sparse_categorical_accuracy: 1.0000 - val_loss: 5.3007 - val_sparse_categorical_accuracy: 0.7143\n",
            "Epoch 51/150\n",
            "7/7 [==============================] - 1s 150ms/step - loss: 4.1198 - sparse_categorical_accuracy: 1.0000 - val_loss: 5.2469 - val_sparse_categorical_accuracy: 0.6786\n",
            "Epoch 52/150\n",
            "7/7 [==============================] - 1s 148ms/step - loss: 4.0882 - sparse_categorical_accuracy: 1.0000 - val_loss: 5.1931 - val_sparse_categorical_accuracy: 0.6786\n",
            "Epoch 53/150\n",
            "7/7 [==============================] - 1s 151ms/step - loss: 4.0552 - sparse_categorical_accuracy: 1.0000 - val_loss: 5.1292 - val_sparse_categorical_accuracy: 0.7143\n",
            "Epoch 54/150\n",
            "7/7 [==============================] - 1s 147ms/step - loss: 4.0241 - sparse_categorical_accuracy: 1.0000 - val_loss: 5.1055 - val_sparse_categorical_accuracy: 0.6786\n",
            "Epoch 55/150\n",
            "7/7 [==============================] - 1s 148ms/step - loss: 3.9933 - sparse_categorical_accuracy: 1.0000 - val_loss: 5.0785 - val_sparse_categorical_accuracy: 0.6786\n",
            "Epoch 56/150\n",
            "7/7 [==============================] - 1s 149ms/step - loss: 3.9639 - sparse_categorical_accuracy: 1.0000 - val_loss: 5.0551 - val_sparse_categorical_accuracy: 0.7143\n",
            "Epoch 57/150\n",
            "7/7 [==============================] - 1s 148ms/step - loss: 3.9358 - sparse_categorical_accuracy: 1.0000 - val_loss: 5.0306 - val_sparse_categorical_accuracy: 0.7143\n",
            "Epoch 58/150\n",
            "7/7 [==============================] - 1s 147ms/step - loss: 3.9068 - sparse_categorical_accuracy: 1.0000 - val_loss: 5.0098 - val_sparse_categorical_accuracy: 0.6786\n",
            "Epoch 59/150\n",
            "7/7 [==============================] - 1s 147ms/step - loss: 3.8802 - sparse_categorical_accuracy: 1.0000 - val_loss: 4.9712 - val_sparse_categorical_accuracy: 0.6786\n",
            "Epoch 60/150\n",
            "7/7 [==============================] - 1s 151ms/step - loss: 3.8538 - sparse_categorical_accuracy: 1.0000 - val_loss: 4.9332 - val_sparse_categorical_accuracy: 0.7143\n",
            "Epoch 61/150\n",
            "7/7 [==============================] - 1s 154ms/step - loss: 3.8280 - sparse_categorical_accuracy: 1.0000 - val_loss: 4.8984 - val_sparse_categorical_accuracy: 0.7143\n",
            "Epoch 62/150\n",
            "7/7 [==============================] - 1s 156ms/step - loss: 3.8021 - sparse_categorical_accuracy: 1.0000 - val_loss: 4.8830 - val_sparse_categorical_accuracy: 0.7143\n",
            "Epoch 63/150\n",
            "7/7 [==============================] - 1s 137ms/step - loss: 3.7776 - sparse_categorical_accuracy: 1.0000 - val_loss: 4.8862 - val_sparse_categorical_accuracy: 0.6786\n",
            "Epoch 64/150\n",
            "7/7 [==============================] - 1s 156ms/step - loss: 3.7532 - sparse_categorical_accuracy: 1.0000 - val_loss: 4.8654 - val_sparse_categorical_accuracy: 0.6786\n",
            "Epoch 65/150\n",
            "7/7 [==============================] - 1s 150ms/step - loss: 3.7298 - sparse_categorical_accuracy: 1.0000 - val_loss: 4.8315 - val_sparse_categorical_accuracy: 0.6786\n",
            "Epoch 66/150\n",
            "7/7 [==============================] - 1s 148ms/step - loss: 3.7072 - sparse_categorical_accuracy: 1.0000 - val_loss: 4.7866 - val_sparse_categorical_accuracy: 0.7143\n",
            "Epoch 67/150\n",
            "7/7 [==============================] - 1s 147ms/step - loss: 3.6840 - sparse_categorical_accuracy: 1.0000 - val_loss: 4.7618 - val_sparse_categorical_accuracy: 0.7143\n",
            "Epoch 68/150\n",
            "7/7 [==============================] - 1s 147ms/step - loss: 3.6622 - sparse_categorical_accuracy: 1.0000 - val_loss: 4.7416 - val_sparse_categorical_accuracy: 0.7143\n",
            "Epoch 69/150\n",
            "7/7 [==============================] - 1s 147ms/step - loss: 3.6404 - sparse_categorical_accuracy: 1.0000 - val_loss: 4.7243 - val_sparse_categorical_accuracy: 0.7143\n",
            "Epoch 70/150\n",
            "7/7 [==============================] - 1s 148ms/step - loss: 3.6194 - sparse_categorical_accuracy: 1.0000 - val_loss: 4.7070 - val_sparse_categorical_accuracy: 0.7143\n",
            "Epoch 71/150\n",
            "7/7 [==============================] - 1s 148ms/step - loss: 3.5988 - sparse_categorical_accuracy: 1.0000 - val_loss: 4.6813 - val_sparse_categorical_accuracy: 0.7143\n",
            "Epoch 72/150\n",
            "7/7 [==============================] - 1s 148ms/step - loss: 3.5787 - sparse_categorical_accuracy: 1.0000 - val_loss: 4.6642 - val_sparse_categorical_accuracy: 0.7143\n",
            "Epoch 73/150\n",
            "7/7 [==============================] - 1s 149ms/step - loss: 3.5589 - sparse_categorical_accuracy: 1.0000 - val_loss: 4.6498 - val_sparse_categorical_accuracy: 0.7500\n",
            "Epoch 74/150\n",
            "7/7 [==============================] - 1s 147ms/step - loss: 3.5399 - sparse_categorical_accuracy: 1.0000 - val_loss: 4.6294 - val_sparse_categorical_accuracy: 0.7500\n",
            "Epoch 75/150\n",
            "7/7 [==============================] - 1s 151ms/step - loss: 3.5207 - sparse_categorical_accuracy: 1.0000 - val_loss: 4.6052 - val_sparse_categorical_accuracy: 0.7500\n",
            "Epoch 76/150\n",
            "7/7 [==============================] - 1s 158ms/step - loss: 3.5024 - sparse_categorical_accuracy: 1.0000 - val_loss: 4.5942 - val_sparse_categorical_accuracy: 0.7500\n",
            "Epoch 77/150\n",
            "7/7 [==============================] - 1s 154ms/step - loss: 3.4842 - sparse_categorical_accuracy: 1.0000 - val_loss: 4.5776 - val_sparse_categorical_accuracy: 0.7143\n",
            "Epoch 78/150\n",
            "7/7 [==============================] - 1s 155ms/step - loss: 3.4667 - sparse_categorical_accuracy: 1.0000 - val_loss: 4.5463 - val_sparse_categorical_accuracy: 0.7500\n",
            "Epoch 79/150\n",
            "7/7 [==============================] - 1s 154ms/step - loss: 3.4490 - sparse_categorical_accuracy: 1.0000 - val_loss: 4.5269 - val_sparse_categorical_accuracy: 0.7500\n",
            "Epoch 80/150\n",
            "7/7 [==============================] - 1s 147ms/step - loss: 3.4319 - sparse_categorical_accuracy: 1.0000 - val_loss: 4.5098 - val_sparse_categorical_accuracy: 0.7500\n",
            "Epoch 81/150\n",
            "7/7 [==============================] - 1s 148ms/step - loss: 3.4157 - sparse_categorical_accuracy: 1.0000 - val_loss: 4.4847 - val_sparse_categorical_accuracy: 0.7500\n",
            "Epoch 82/150\n",
            "7/7 [==============================] - 1s 147ms/step - loss: 3.3990 - sparse_categorical_accuracy: 1.0000 - val_loss: 4.4689 - val_sparse_categorical_accuracy: 0.7500\n",
            "Epoch 83/150\n",
            "7/7 [==============================] - 1s 152ms/step - loss: 3.3830 - sparse_categorical_accuracy: 1.0000 - val_loss: 4.4641 - val_sparse_categorical_accuracy: 0.7500\n",
            "Epoch 84/150\n",
            "7/7 [==============================] - 1s 148ms/step - loss: 3.3677 - sparse_categorical_accuracy: 1.0000 - val_loss: 4.4585 - val_sparse_categorical_accuracy: 0.7500\n",
            "Epoch 85/150\n",
            "7/7 [==============================] - 1s 148ms/step - loss: 3.3523 - sparse_categorical_accuracy: 1.0000 - val_loss: 4.4470 - val_sparse_categorical_accuracy: 0.7143\n",
            "Epoch 86/150\n",
            "7/7 [==============================] - 1s 147ms/step - loss: 3.3372 - sparse_categorical_accuracy: 1.0000 - val_loss: 4.4240 - val_sparse_categorical_accuracy: 0.7500\n",
            "Epoch 87/150\n",
            "7/7 [==============================] - 1s 146ms/step - loss: 3.3227 - sparse_categorical_accuracy: 1.0000 - val_loss: 4.4019 - val_sparse_categorical_accuracy: 0.7500\n",
            "Epoch 88/150\n",
            "7/7 [==============================] - 1s 147ms/step - loss: 3.3083 - sparse_categorical_accuracy: 1.0000 - val_loss: 4.3843 - val_sparse_categorical_accuracy: 0.7500\n",
            "Epoch 89/150\n",
            "7/7 [==============================] - 1s 150ms/step - loss: 3.2946 - sparse_categorical_accuracy: 1.0000 - val_loss: 4.3773 - val_sparse_categorical_accuracy: 0.7500\n",
            "Epoch 90/150\n",
            "7/7 [==============================] - 1s 155ms/step - loss: 3.2809 - sparse_categorical_accuracy: 1.0000 - val_loss: 4.3763 - val_sparse_categorical_accuracy: 0.7500\n",
            "Epoch 91/150\n",
            "7/7 [==============================] - 1s 156ms/step - loss: 3.2674 - sparse_categorical_accuracy: 1.0000 - val_loss: 4.3711 - val_sparse_categorical_accuracy: 0.7500\n",
            "Epoch 92/150\n",
            "7/7 [==============================] - 1s 155ms/step - loss: 3.2543 - sparse_categorical_accuracy: 1.0000 - val_loss: 4.3518 - val_sparse_categorical_accuracy: 0.7500\n",
            "Epoch 93/150\n",
            "7/7 [==============================] - 1s 155ms/step - loss: 3.2416 - sparse_categorical_accuracy: 1.0000 - val_loss: 4.3436 - val_sparse_categorical_accuracy: 0.7500\n",
            "Epoch 94/150\n",
            "7/7 [==============================] - 1s 148ms/step - loss: 3.2287 - sparse_categorical_accuracy: 1.0000 - val_loss: 4.3290 - val_sparse_categorical_accuracy: 0.7500\n",
            "Epoch 95/150\n",
            "7/7 [==============================] - 1s 147ms/step - loss: 3.2183 - sparse_categorical_accuracy: 1.0000 - val_loss: 4.3100 - val_sparse_categorical_accuracy: 0.7500\n",
            "Epoch 96/150\n",
            "7/7 [==============================] - 1s 149ms/step - loss: 3.2053 - sparse_categorical_accuracy: 1.0000 - val_loss: 4.2986 - val_sparse_categorical_accuracy: 0.7500\n",
            "Epoch 97/150\n",
            "7/7 [==============================] - 1s 147ms/step - loss: 3.1933 - sparse_categorical_accuracy: 1.0000 - val_loss: 4.2830 - val_sparse_categorical_accuracy: 0.7500\n",
            "Epoch 98/150\n",
            "7/7 [==============================] - 1s 148ms/step - loss: 3.1816 - sparse_categorical_accuracy: 1.0000 - val_loss: 4.2679 - val_sparse_categorical_accuracy: 0.7500\n",
            "Epoch 99/150\n",
            "7/7 [==============================] - 1s 149ms/step - loss: 3.1706 - sparse_categorical_accuracy: 1.0000 - val_loss: 4.2457 - val_sparse_categorical_accuracy: 0.7500\n",
            "Epoch 100/150\n",
            "7/7 [==============================] - 1s 149ms/step - loss: 3.1599 - sparse_categorical_accuracy: 1.0000 - val_loss: 4.2375 - val_sparse_categorical_accuracy: 0.7500\n",
            "Epoch 101/150\n",
            "7/7 [==============================] - 1s 148ms/step - loss: 3.1489 - sparse_categorical_accuracy: 1.0000 - val_loss: 4.2312 - val_sparse_categorical_accuracy: 0.7500\n",
            "Epoch 102/150\n",
            "7/7 [==============================] - 1s 148ms/step - loss: 3.1388 - sparse_categorical_accuracy: 1.0000 - val_loss: 4.2147 - val_sparse_categorical_accuracy: 0.7500\n",
            "Epoch 103/150\n",
            "7/7 [==============================] - 1s 149ms/step - loss: 3.1284 - sparse_categorical_accuracy: 1.0000 - val_loss: 4.1925 - val_sparse_categorical_accuracy: 0.7500\n",
            "Epoch 104/150\n",
            "7/7 [==============================] - 1s 156ms/step - loss: 3.1189 - sparse_categorical_accuracy: 1.0000 - val_loss: 4.1826 - val_sparse_categorical_accuracy: 0.7500\n",
            "Epoch 105/150\n",
            "7/7 [==============================] - 1s 154ms/step - loss: 3.1091 - sparse_categorical_accuracy: 1.0000 - val_loss: 4.1791 - val_sparse_categorical_accuracy: 0.7500\n",
            "Epoch 106/150\n",
            "7/7 [==============================] - 1s 156ms/step - loss: 3.0998 - sparse_categorical_accuracy: 1.0000 - val_loss: 4.1759 - val_sparse_categorical_accuracy: 0.7500\n",
            "Epoch 107/150\n",
            "7/7 [==============================] - 1s 156ms/step - loss: 3.0902 - sparse_categorical_accuracy: 1.0000 - val_loss: 4.1679 - val_sparse_categorical_accuracy: 0.7500\n",
            "Epoch 108/150\n",
            "7/7 [==============================] - 1s 153ms/step - loss: 3.0818 - sparse_categorical_accuracy: 1.0000 - val_loss: 4.1514 - val_sparse_categorical_accuracy: 0.7500\n",
            "Epoch 109/150\n",
            "7/7 [==============================] - 1s 149ms/step - loss: 3.0728 - sparse_categorical_accuracy: 1.0000 - val_loss: 4.1447 - val_sparse_categorical_accuracy: 0.7500\n",
            "Epoch 110/150\n",
            "7/7 [==============================] - 1s 148ms/step - loss: 3.0645 - sparse_categorical_accuracy: 1.0000 - val_loss: 4.1410 - val_sparse_categorical_accuracy: 0.7500\n",
            "Epoch 111/150\n",
            "7/7 [==============================] - 1s 131ms/step - loss: 3.0565 - sparse_categorical_accuracy: 1.0000 - val_loss: 4.1425 - val_sparse_categorical_accuracy: 0.7500\n",
            "Epoch 112/150\n",
            "7/7 [==============================] - 1s 132ms/step - loss: 3.0482 - sparse_categorical_accuracy: 1.0000 - val_loss: 4.1414 - val_sparse_categorical_accuracy: 0.7500\n",
            "Epoch 113/150\n",
            "7/7 [==============================] - 1s 149ms/step - loss: 3.0405 - sparse_categorical_accuracy: 1.0000 - val_loss: 4.1329 - val_sparse_categorical_accuracy: 0.7500\n",
            "Epoch 114/150\n",
            "7/7 [==============================] - 1s 148ms/step - loss: 3.0330 - sparse_categorical_accuracy: 1.0000 - val_loss: 4.1152 - val_sparse_categorical_accuracy: 0.7500\n",
            "Epoch 115/150\n",
            "7/7 [==============================] - 1s 148ms/step - loss: 3.0257 - sparse_categorical_accuracy: 1.0000 - val_loss: 4.1004 - val_sparse_categorical_accuracy: 0.7500\n",
            "Epoch 116/150\n",
            "7/7 [==============================] - 1s 147ms/step - loss: 3.0187 - sparse_categorical_accuracy: 1.0000 - val_loss: 4.0919 - val_sparse_categorical_accuracy: 0.7500\n",
            "Epoch 117/150\n",
            "7/7 [==============================] - 1s 149ms/step - loss: 3.0120 - sparse_categorical_accuracy: 1.0000 - val_loss: 4.0820 - val_sparse_categorical_accuracy: 0.7500\n",
            "Epoch 118/150\n",
            "7/7 [==============================] - 1s 152ms/step - loss: 3.0049 - sparse_categorical_accuracy: 1.0000 - val_loss: 4.0772 - val_sparse_categorical_accuracy: 0.7500\n",
            "Epoch 119/150\n",
            "7/7 [==============================] - 1s 156ms/step - loss: 2.9984 - sparse_categorical_accuracy: 1.0000 - val_loss: 4.0730 - val_sparse_categorical_accuracy: 0.7500\n",
            "Epoch 120/150\n",
            "7/7 [==============================] - 1s 155ms/step - loss: 2.9926 - sparse_categorical_accuracy: 1.0000 - val_loss: 4.0686 - val_sparse_categorical_accuracy: 0.7500\n",
            "Epoch 121/150\n",
            "7/7 [==============================] - 1s 155ms/step - loss: 2.9860 - sparse_categorical_accuracy: 1.0000 - val_loss: 4.0629 - val_sparse_categorical_accuracy: 0.7500\n",
            "Epoch 122/150\n",
            "7/7 [==============================] - 1s 158ms/step - loss: 2.9807 - sparse_categorical_accuracy: 1.0000 - val_loss: 4.0598 - val_sparse_categorical_accuracy: 0.7500\n",
            "Epoch 123/150\n",
            "7/7 [==============================] - 1s 150ms/step - loss: 2.9749 - sparse_categorical_accuracy: 1.0000 - val_loss: 4.0564 - val_sparse_categorical_accuracy: 0.7500\n",
            "Epoch 124/150\n",
            "7/7 [==============================] - 1s 149ms/step - loss: 2.9698 - sparse_categorical_accuracy: 1.0000 - val_loss: 4.0533 - val_sparse_categorical_accuracy: 0.7500\n",
            "Epoch 125/150\n",
            "7/7 [==============================] - 1s 148ms/step - loss: 2.9644 - sparse_categorical_accuracy: 1.0000 - val_loss: 4.0382 - val_sparse_categorical_accuracy: 0.7500\n",
            "Epoch 126/150\n",
            "7/7 [==============================] - 1s 148ms/step - loss: 2.9595 - sparse_categorical_accuracy: 1.0000 - val_loss: 4.0239 - val_sparse_categorical_accuracy: 0.7500\n",
            "Epoch 127/150\n",
            "7/7 [==============================] - 1s 148ms/step - loss: 2.9548 - sparse_categorical_accuracy: 1.0000 - val_loss: 4.0200 - val_sparse_categorical_accuracy: 0.7500\n",
            "Epoch 128/150\n",
            "7/7 [==============================] - 1s 147ms/step - loss: 2.9501 - sparse_categorical_accuracy: 1.0000 - val_loss: 4.0177 - val_sparse_categorical_accuracy: 0.7500\n",
            "Epoch 129/150\n",
            "7/7 [==============================] - 1s 148ms/step - loss: 2.9457 - sparse_categorical_accuracy: 1.0000 - val_loss: 4.0158 - val_sparse_categorical_accuracy: 0.7500\n",
            "Epoch 130/150\n",
            "7/7 [==============================] - 1s 128ms/step - loss: 2.9418 - sparse_categorical_accuracy: 1.0000 - val_loss: 4.0159 - val_sparse_categorical_accuracy: 0.7500\n",
            "Epoch 131/150\n",
            "7/7 [==============================] - 1s 148ms/step - loss: 2.9378 - sparse_categorical_accuracy: 1.0000 - val_loss: 4.0131 - val_sparse_categorical_accuracy: 0.7500\n",
            "Epoch 132/150\n",
            "7/7 [==============================] - 1s 149ms/step - loss: 2.9342 - sparse_categorical_accuracy: 1.0000 - val_loss: 4.0087 - val_sparse_categorical_accuracy: 0.7500\n",
            "Epoch 133/150\n",
            "7/7 [==============================] - 1s 154ms/step - loss: 2.9304 - sparse_categorical_accuracy: 1.0000 - val_loss: 4.0053 - val_sparse_categorical_accuracy: 0.7500\n",
            "Epoch 134/150\n",
            "7/7 [==============================] - 1s 155ms/step - loss: 2.9269 - sparse_categorical_accuracy: 1.0000 - val_loss: 4.0021 - val_sparse_categorical_accuracy: 0.7500\n",
            "Epoch 135/150\n",
            "7/7 [==============================] - 1s 155ms/step - loss: 2.9234 - sparse_categorical_accuracy: 1.0000 - val_loss: 3.9999 - val_sparse_categorical_accuracy: 0.7500\n",
            "Epoch 136/150\n",
            "7/7 [==============================] - 1s 155ms/step - loss: 2.9210 - sparse_categorical_accuracy: 1.0000 - val_loss: 3.9964 - val_sparse_categorical_accuracy: 0.7500\n",
            "Epoch 137/150\n",
            "7/7 [==============================] - 1s 151ms/step - loss: 2.9181 - sparse_categorical_accuracy: 1.0000 - val_loss: 3.9918 - val_sparse_categorical_accuracy: 0.7500\n",
            "Epoch 138/150\n",
            "7/7 [==============================] - 1s 148ms/step - loss: 2.9156 - sparse_categorical_accuracy: 1.0000 - val_loss: 3.9886 - val_sparse_categorical_accuracy: 0.7500\n",
            "Epoch 139/150\n",
            "7/7 [==============================] - 1s 149ms/step - loss: 2.9132 - sparse_categorical_accuracy: 1.0000 - val_loss: 3.9847 - val_sparse_categorical_accuracy: 0.7500\n",
            "Epoch 140/150\n",
            "7/7 [==============================] - 1s 148ms/step - loss: 2.9109 - sparse_categorical_accuracy: 1.0000 - val_loss: 3.9835 - val_sparse_categorical_accuracy: 0.7500\n",
            "Epoch 141/150\n",
            "7/7 [==============================] - 1s 148ms/step - loss: 2.9089 - sparse_categorical_accuracy: 1.0000 - val_loss: 3.9833 - val_sparse_categorical_accuracy: 0.7500\n",
            "Epoch 142/150\n",
            "7/7 [==============================] - 1s 151ms/step - loss: 2.9077 - sparse_categorical_accuracy: 1.0000 - val_loss: 3.9831 - val_sparse_categorical_accuracy: 0.7500\n",
            "Epoch 143/150\n",
            "7/7 [==============================] - 1s 148ms/step - loss: 2.9058 - sparse_categorical_accuracy: 1.0000 - val_loss: 3.9817 - val_sparse_categorical_accuracy: 0.7500\n",
            "Epoch 144/150\n",
            "7/7 [==============================] - 1s 148ms/step - loss: 2.9045 - sparse_categorical_accuracy: 1.0000 - val_loss: 3.9802 - val_sparse_categorical_accuracy: 0.7500\n",
            "Epoch 145/150\n",
            "7/7 [==============================] - 1s 149ms/step - loss: 2.9033 - sparse_categorical_accuracy: 1.0000 - val_loss: 3.9785 - val_sparse_categorical_accuracy: 0.7500\n",
            "Epoch 146/150\n",
            "7/7 [==============================] - 1s 148ms/step - loss: 2.9023 - sparse_categorical_accuracy: 1.0000 - val_loss: 3.9775 - val_sparse_categorical_accuracy: 0.7500\n",
            "Epoch 147/150\n",
            "7/7 [==============================] - 1s 154ms/step - loss: 2.9014 - sparse_categorical_accuracy: 1.0000 - val_loss: 3.9772 - val_sparse_categorical_accuracy: 0.7500\n",
            "Epoch 148/150\n",
            "7/7 [==============================] - 1s 157ms/step - loss: 2.9010 - sparse_categorical_accuracy: 1.0000 - val_loss: 3.9770 - val_sparse_categorical_accuracy: 0.7500\n",
            "Epoch 149/150\n",
            "7/7 [==============================] - 1s 137ms/step - loss: 2.9002 - sparse_categorical_accuracy: 1.0000 - val_loss: 3.9771 - val_sparse_categorical_accuracy: 0.7500\n",
            "Epoch 150/150\n",
            "7/7 [==============================] - 1s 155ms/step - loss: 2.9003 - sparse_categorical_accuracy: 1.0000 - val_loss: 3.9770 - val_sparse_categorical_accuracy: 0.7500\n"
          ]
        }
      ]
    },
    {
      "cell_type": "code",
      "source": [
        "dataset_name = 'resumes'\n",
        "saved_model_path = './{}_bert'.format(dataset_name.replace('/', '_'))\n",
        "\n",
        "classifier_model.save(saved_model_path, include_optimizer=False)"
      ],
      "metadata": {
        "colab": {
          "base_uri": "https://localhost:8080/"
        },
        "id": "plTURuP_5xAP",
        "outputId": "16889fc7-976a-4346-e23e-26634dbff6e0"
      },
      "execution_count": null,
      "outputs": [
        {
          "output_type": "stream",
          "name": "stderr",
          "text": [
            "WARNING:absl:Found untraced functions such as restored_function_body, restored_function_body, restored_function_body, restored_function_body, restored_function_body while saving (showing 5 of 124). These functions will not be directly callable after loading.\n"
          ]
        }
      ]
    },
    {
      "cell_type": "code",
      "source": [
        "!zip -r /content/resumes_bert.zip /content/resumes_bert"
      ],
      "metadata": {
        "colab": {
          "base_uri": "https://localhost:8080/"
        },
        "id": "c3LAdEIT8buM",
        "outputId": "c71cd6a8-1bc8-4687-ab25-6e4454d6e541"
      },
      "execution_count": null,
      "outputs": [
        {
          "output_type": "stream",
          "name": "stdout",
          "text": [
            "  adding: content/resumes_bert/ (stored 0%)\n",
            "  adding: content/resumes_bert/saved_model.pb (deflated 92%)\n",
            "  adding: content/resumes_bert/assets/ (stored 0%)\n",
            "  adding: content/resumes_bert/assets/vocab.txt (deflated 53%)\n",
            "  adding: content/resumes_bert/variables/ (stored 0%)\n",
            "  adding: content/resumes_bert/variables/variables.index (deflated 75%)\n",
            "  adding: content/resumes_bert/variables/variables.data-00000-of-00001 (deflated 7%)\n",
            "  adding: content/resumes_bert/keras_metadata.pb (deflated 88%)\n",
            "  adding: content/resumes_bert/fingerprint.pb (stored 0%)\n"
          ]
        }
      ]
    },
    {
      "cell_type": "code",
      "source": [
        "reloaded_model = tf.saved_model.load(saved_model_path)"
      ],
      "metadata": {
        "id": "9nxVzXHP8NWT"
      },
      "execution_count": null,
      "outputs": []
    },
    {
      "cell_type": "code",
      "source": [
        "class Visual:\n",
        "  def __init__(self, history: keras.callbacks.History, accuracy=\"sparse_categorical_accuracy\") -> None:\n",
        "      self.history = history\n",
        "      self.accuracy=accuracy\n",
        "\n",
        "  @property\n",
        "  def show_loss(self):\n",
        "    plt.plot(self.history.history['loss'], label='Training Loss')\n",
        "    plt.plot(self.history.history['val_loss'], label='Validation Loss')\n",
        "    plt.title('Loss Over Time')\n",
        "    plt.xlabel('Epochs')\n",
        "    plt.ylabel('Loss')\n",
        "    plt.legend()\n",
        "    plt.show()\n",
        "\n",
        "  @property\n",
        "  def show_accuracy(self):\n",
        "    plt.plot(self.history.history[self.accuracy], label='Training Accuracy')\n",
        "    plt.plot(self.history.history[f'val_{self.accuracy}'], label='Validation Accuracy')\n",
        "    plt.title('Accuracy Over Time')\n",
        "    plt.xlabel('Epochs')\n",
        "    plt.ylabel('Accuracy')\n",
        "    plt.legend()\n",
        "    plt.show()"
      ],
      "metadata": {
        "id": "rxtXpZkq0ehL"
      },
      "execution_count": null,
      "outputs": []
    },
    {
      "cell_type": "code",
      "source": [
        "viz_bert = Visual(history)"
      ],
      "metadata": {
        "id": "Kg1puj5U0sbx"
      },
      "execution_count": null,
      "outputs": []
    },
    {
      "cell_type": "code",
      "source": [
        "viz_bert.show_loss"
      ],
      "metadata": {
        "colab": {
          "base_uri": "https://localhost:8080/",
          "height": 472
        },
        "id": "UTWvOWH003LZ",
        "outputId": "b735a8ac-0ecc-42c4-d3b7-bed3745204d2"
      },
      "execution_count": null,
      "outputs": [
        {
          "output_type": "display_data",
          "data": {
            "text/plain": [
              "<Figure size 640x480 with 1 Axes>"
            ],
            "image/png": "[encoded data removed]"
          },
          "metadata": {}
        }
      ]
    },
    {
      "cell_type": "code",
      "source": [
        "viz_bert.show_accuracy"
      ],
      "metadata": {
        "colab": {
          "base_uri": "https://localhost:8080/",
          "height": 472
        },
        "id": "hnlsDggJ059S",
        "outputId": "7869abf1-137c-40ee-be87-9ae70bd33a46"
      },
      "execution_count": null,
      "outputs": [
        {
          "output_type": "display_data",
          "data": {
            "text/plain": [
              "<Figure size 640x480 with 1 Axes>"
            ],
            "image/png": "[encoded data removed]"
          },
          "metadata": {}
        }
      ]
    },
    {
      "cell_type": "code",
      "source": [
        "!nvidia-smi -L"
      ],
      "metadata": {
        "colab": {
          "base_uri": "https://localhost:8080/"
        },
        "id": "9KTJyQbi2nKn",
        "outputId": "f999b881-a878-4d4d-92ff-57f697214227"
      },
      "execution_count": null,
      "outputs": [
        {
          "output_type": "stream",
          "name": "stdout",
          "text": [
            "GPU 0: Tesla T4 (UUID: GPU-65c7c4e3-964f-429c-f453-ce7c76a966fc)\n"
          ]
        }
      ]
    },
    {
      "cell_type": "code",
      "source": [],
      "metadata": {
        "id": "S75ABF626EUX"
      },
      "execution_count": null,
      "outputs": []
    }
  ]
}